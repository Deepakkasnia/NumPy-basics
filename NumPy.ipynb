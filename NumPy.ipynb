{
 "cells": [
  {
   "cell_type": "code",
   "execution_count": 2,
   "metadata": {},
   "outputs": [],
   "source": [
    "import numpy as np\n"
   ]
  },
  {
   "cell_type": "code",
   "execution_count": 3,
   "metadata": {},
   "outputs": [],
   "source": [
    "# 1D Array\n"
   ]
  },
  {
   "cell_type": "code",
   "execution_count": 4,
   "metadata": {},
   "outputs": [
    {
     "name": "stdout",
     "output_type": "stream",
     "text": [
      "[100 200 300 400 500]\n"
     ]
    }
   ],
   "source": [
    "x=np.array([100,200,300,400,500])\n",
    "print(x)"
   ]
  },
  {
   "cell_type": "code",
   "execution_count": 5,
   "metadata": {},
   "outputs": [
    {
     "data": {
      "text/plain": [
       "array([100, 200, 300, 400, 500])"
      ]
     },
     "execution_count": 5,
     "metadata": {},
     "output_type": "execute_result"
    }
   ],
   "source": [
    "x"
   ]
  },
  {
   "cell_type": "code",
   "execution_count": 6,
   "metadata": {},
   "outputs": [
    {
     "data": {
      "text/plain": [
       "1"
      ]
     },
     "execution_count": 6,
     "metadata": {},
     "output_type": "execute_result"
    }
   ],
   "source": [
    "x.ndim #ndim shows number of dimensions of your array"
   ]
  },
  {
   "cell_type": "code",
   "execution_count": 7,
   "metadata": {},
   "outputs": [
    {
     "data": {
      "text/plain": [
       "(5,)"
      ]
     },
     "execution_count": 7,
     "metadata": {},
     "output_type": "execute_result"
    }
   ],
   "source": [
    "x.shape #no. of rows, no. columns"
   ]
  },
  {
   "cell_type": "code",
   "execution_count": 8,
   "metadata": {},
   "outputs": [
    {
     "data": {
      "text/plain": [
       "5"
      ]
     },
     "execution_count": 8,
     "metadata": {},
     "output_type": "execute_result"
    }
   ],
   "source": [
    "x.size  #no of elements"
   ]
  },
  {
   "cell_type": "code",
   "execution_count": 9,
   "metadata": {},
   "outputs": [],
   "source": [
    "# array is a homogeneous type of data type"
   ]
  },
  {
   "cell_type": "code",
   "execution_count": 10,
   "metadata": {},
   "outputs": [
    {
     "data": {
      "text/plain": [
       "array(['26', '36', 'avanish', '673', '74'], dtype='<U11')"
      ]
     },
     "execution_count": 10,
     "metadata": {},
     "output_type": "execute_result"
    }
   ],
   "source": [
    "y=np.array([26,36,\"avanish\",673,74])\n",
    "y"
   ]
  },
  {
   "cell_type": "code",
   "execution_count": 16,
   "metadata": {},
   "outputs": [
    {
     "data": {
      "text/plain": [
       "array([ 26.  ,  36.  , 673.  ,  74.  ,  65.36])"
      ]
     },
     "execution_count": 16,
     "metadata": {},
     "output_type": "execute_result"
    }
   ],
   "source": [
    "y=np.array([26,36,673,74,65.36])\n",
    "y"
   ]
  },
  {
   "cell_type": "code",
   "execution_count": 13,
   "metadata": {},
   "outputs": [
    {
     "data": {
      "text/plain": [
       "'65.36'"
      ]
     },
     "execution_count": 13,
     "metadata": {},
     "output_type": "execute_result"
    }
   ],
   "source": [
    "y[5]"
   ]
  },
  {
   "cell_type": "code",
   "execution_count": 11,
   "metadata": {},
   "outputs": [
    {
     "data": {
      "text/plain": [
       "274"
      ]
     },
     "execution_count": 11,
     "metadata": {},
     "output_type": "execute_result"
    }
   ],
   "source": [
    "arr1=np.array([1983,364,263,274,574,263,475])\n",
    "arr1[3]"
   ]
  },
  {
   "cell_type": "code",
   "execution_count": 12,
   "metadata": {},
   "outputs": [],
   "source": [
    "arr1[4]=1000"
   ]
  },
  {
   "cell_type": "code",
   "execution_count": 13,
   "metadata": {},
   "outputs": [
    {
     "data": {
      "text/plain": [
       "array([1983,  364,  263,  274, 1000,  263,  475])"
      ]
     },
     "execution_count": 13,
     "metadata": {},
     "output_type": "execute_result"
    }
   ],
   "source": [
    "arr1"
   ]
  },
  {
   "cell_type": "code",
   "execution_count": 18,
   "metadata": {},
   "outputs": [
    {
     "data": {
      "text/plain": [
       "array([1983, 363, 263, 274], dtype=object)"
      ]
     },
     "execution_count": 18,
     "metadata": {},
     "output_type": "execute_result"
    }
   ],
   "source": [
    "arr2=np.array([1983,363,263,274],dtype=object)\n",
    "arr2"
   ]
  },
  {
   "cell_type": "code",
   "execution_count": 30,
   "metadata": {},
   "outputs": [
    {
     "data": {
      "text/plain": [
       "array([[65, 72, 16],\n",
       "       [63, 27, 12],\n",
       "       [63, 25, 58],\n",
       "       [64, 68, 22]])"
      ]
     },
     "execution_count": 30,
     "metadata": {},
     "output_type": "execute_result"
    }
   ],
   "source": [
    "a=np.array([[65,72,16],[63,27,12],[63,25,58],[64,68,22]])\n",
    "a"
   ]
  },
  {
   "cell_type": "code",
   "execution_count": 31,
   "metadata": {},
   "outputs": [
    {
     "data": {
      "text/plain": [
       "2"
      ]
     },
     "execution_count": 31,
     "metadata": {},
     "output_type": "execute_result"
    }
   ],
   "source": [
    "a.ndim"
   ]
  },
  {
   "cell_type": "code",
   "execution_count": 32,
   "metadata": {},
   "outputs": [
    {
     "data": {
      "text/plain": [
       "(4, 3)"
      ]
     },
     "execution_count": 32,
     "metadata": {},
     "output_type": "execute_result"
    }
   ],
   "source": [
    "a.shape"
   ]
  },
  {
   "cell_type": "code",
   "execution_count": 18,
   "metadata": {},
   "outputs": [
    {
     "data": {
      "text/plain": [
       "12"
      ]
     },
     "execution_count": 18,
     "metadata": {},
     "output_type": "execute_result"
    }
   ],
   "source": [
    "a.size"
   ]
  },
  {
   "cell_type": "code",
   "execution_count": 19,
   "metadata": {},
   "outputs": [],
   "source": [
    "#3d array"
   ]
  },
  {
   "cell_type": "code",
   "execution_count": 21,
   "metadata": {},
   "outputs": [],
   "source": [
    "arr3=np.array([[[11,63,85],[87,99,45],[67,65,78]],[[65,87,99],[76,88,34],[11,99,13]]])"
   ]
  },
  {
   "cell_type": "code",
   "execution_count": 22,
   "metadata": {},
   "outputs": [
    {
     "data": {
      "text/plain": [
       "array([[[11, 63, 85],\n",
       "        [87, 99, 45],\n",
       "        [67, 65, 78]],\n",
       "\n",
       "       [[65, 87, 99],\n",
       "        [76, 88, 34],\n",
       "        [11, 99, 13]]])"
      ]
     },
     "execution_count": 22,
     "metadata": {},
     "output_type": "execute_result"
    }
   ],
   "source": [
    "arr3"
   ]
  },
  {
   "cell_type": "code",
   "execution_count": 23,
   "metadata": {},
   "outputs": [
    {
     "data": {
      "text/plain": [
       "(2, 3, 3)"
      ]
     },
     "execution_count": 23,
     "metadata": {},
     "output_type": "execute_result"
    }
   ],
   "source": [
    "arr3.shape"
   ]
  },
  {
   "cell_type": "code",
   "execution_count": 24,
   "metadata": {},
   "outputs": [],
   "source": [
    "#to creat numpy arrays we could use some built in functions:-\n"
   ]
  },
  {
   "cell_type": "code",
   "execution_count": 25,
   "metadata": {},
   "outputs": [],
   "source": [
    "#np.arange()\n",
    "#np.reshape\n",
    "#np.zeros()\n",
    "#np.once()\n",
    "#np.random\n",
    "#np.linspace()"
   ]
  },
  {
   "cell_type": "code",
   "execution_count": 26,
   "metadata": {},
   "outputs": [],
   "source": [
    "#for indexing:-variablename[rowindex,coloumnindex]"
   ]
  },
  {
   "cell_type": "code",
   "execution_count": 34,
   "metadata": {},
   "outputs": [
    {
     "data": {
      "text/plain": [
       "array([[74, 59, 57, 94],\n",
       "       [86, 64, 59, 95],\n",
       "       [99, 54, 60, 72],\n",
       "       [99, 66, 60, 54],\n",
       "       [95, 82, 60, 66]])"
      ]
     },
     "execution_count": 34,
     "metadata": {},
     "output_type": "execute_result"
    }
   ],
   "source": [
    "import numpy as np\n",
    "arr7 = np.array(np.random.randint(50,100, size=(5,4)))\n",
    "arr7"
   ]
  },
  {
   "cell_type": "code",
   "execution_count": 35,
   "metadata": {},
   "outputs": [
    {
     "data": {
      "text/plain": [
       "64"
      ]
     },
     "execution_count": 35,
     "metadata": {},
     "output_type": "execute_result"
    }
   ],
   "source": [
    "arr7[1,1]"
   ]
  },
  {
   "cell_type": "code",
   "execution_count": 36,
   "metadata": {},
   "outputs": [
    {
     "data": {
      "text/plain": [
       "82"
      ]
     },
     "execution_count": 36,
     "metadata": {},
     "output_type": "execute_result"
    }
   ],
   "source": [
    "arr7[4,1]"
   ]
  },
  {
   "cell_type": "code",
   "execution_count": 37,
   "metadata": {},
   "outputs": [
    {
     "data": {
      "text/plain": [
       "array([95, 82, 60, 66])"
      ]
     },
     "execution_count": 37,
     "metadata": {},
     "output_type": "execute_result"
    }
   ],
   "source": [
    "arr7[-1,]"
   ]
  },
  {
   "cell_type": "code",
   "execution_count": 43,
   "metadata": {},
   "outputs": [
    {
     "name": "stdout",
     "output_type": "stream",
     "text": [
      "[[94]\n",
      " [95]\n",
      " [72]\n",
      " [54]\n",
      " [66]]\n"
     ]
    }
   ],
   "source": [
    "print(arr7[:,3:])"
   ]
  },
  {
   "cell_type": "code",
   "execution_count": 44,
   "metadata": {},
   "outputs": [
    {
     "name": "stdout",
     "output_type": "stream",
     "text": [
      "[[64 59]\n",
      " [54 60]]\n"
     ]
    }
   ],
   "source": [
    "print(arr7[1:3,1:3])"
   ]
  },
  {
   "cell_type": "code",
   "execution_count": 45,
   "metadata": {},
   "outputs": [
    {
     "name": "stdout",
     "output_type": "stream",
     "text": [
      "[[60 54]\n",
      " [60 66]]\n"
     ]
    }
   ],
   "source": [
    "print(arr7[3:5,2:4])"
   ]
  },
  {
   "cell_type": "code",
   "execution_count": 4,
   "metadata": {},
   "outputs": [
    {
     "data": {
      "text/plain": [
       "array([[[11, 63, 85],\n",
       "        [87, 99, 45],\n",
       "        [67, 65, 78]],\n",
       "\n",
       "       [[65, 87, 34],\n",
       "        [76, 88, 34],\n",
       "        [65, 12, 50]]])"
      ]
     },
     "execution_count": 4,
     "metadata": {},
     "output_type": "execute_result"
    }
   ],
   "source": [
    "arr3 = np.array([[[11,63,85],[87,99,45],[67,65,78]],\n",
    " [[65,87,34],[76,88,34],[65,12,50]]])\n",
    "arr3"
   ]
  },
  {
   "cell_type": "code",
   "execution_count": 5,
   "metadata": {},
   "outputs": [
    {
     "data": {
      "text/plain": [
       "array([[0, 0, 0],\n",
       "       [0, 0, 0],\n",
       "       [0, 0, 0],\n",
       "       [0, 0, 0]])"
      ]
     },
     "execution_count": 5,
     "metadata": {},
     "output_type": "execute_result"
    }
   ],
   "source": [
    "arr4 = np.zeros((4,3), dtype=int)\n",
    "arr4"
   ]
  },
  {
   "cell_type": "code",
   "execution_count": 6,
   "metadata": {},
   "outputs": [
    {
     "data": {
      "text/plain": [
       "array([[1, 1, 1, 1],\n",
       "       [1, 1, 1, 1],\n",
       "       [1, 1, 1, 1],\n",
       "       [1, 1, 1, 1]])"
      ]
     },
     "execution_count": 6,
     "metadata": {},
     "output_type": "execute_result"
    }
   ],
   "source": [
    "arr5 = np.ones((4,4), dtype=int)\n",
    "arr5\n"
   ]
  },
  {
   "cell_type": "code",
   "execution_count": 7,
   "metadata": {},
   "outputs": [],
   "source": [
    "#use of random function in python"
   ]
  },
  {
   "cell_type": "code",
   "execution_count": 7,
   "metadata": {},
   "outputs": [
    {
     "data": {
      "text/plain": [
       "0.4681524074694694"
      ]
     },
     "execution_count": 7,
     "metadata": {},
     "output_type": "execute_result"
    }
   ],
   "source": [
    "import random\n",
    "x = random.random()\n",
    "x"
   ]
  },
  {
   "cell_type": "code",
   "execution_count": 9,
   "metadata": {},
   "outputs": [
    {
     "name": "stdout",
     "output_type": "stream",
     "text": [
      "You want a game(y/n):y\n",
      "pick a number:4\n",
      "Try again\n",
      "You Want Continue This Game(y/n):y\n",
      "pick a number:4\n",
      "Try again\n",
      "You Want Continue This Game(y/n):y\n",
      "pick a number:3\n",
      "Try again\n",
      "You Want Continue This Game(y/n):y\n",
      "pick a number:2\n",
      "Try again\n",
      "You Want Continue This Game(y/n):y\n",
      "pick a number:1\n",
      "You have picked Right number\n",
      "You Want Continue This Game(y/n):n\n"
     ]
    }
   ],
   "source": [
    "a = random.randint(1,6)\n",
    "c = input(\"You want a game(y/n):\")\n",
    "while c=='y':\n",
    "    uc = int(input(\"pick a number:\"))\n",
    "    if uc==a:\n",
    "        print(\"You have picked Right number\")\n",
    "    else:\n",
    "        print(\"Try again\")\n",
    "    c = input(\"You Want Continue This Game(y/n):\")\n"
   ]
  },
  {
   "cell_type": "code",
   "execution_count": null,
   "metadata": {},
   "outputs": [
    {
     "name": "stdout",
     "output_type": "stream",
     "text": [
      "You want some calculations(y/n):y\n",
      "Enter first number:10\n",
      "Enter second number:20\n",
      "Which opertor you want to try(+,-,*,/,//,%,**):-\n",
      "substraction of 10 and 20 is:-10\n"
     ]
    }
   ],
   "source": [
    "uc = input(\"You want some calculations(y/n):\")\n",
    "while uc=='y':\n",
    "    n1 = eval(input(\"Enter first number:\"))\n",
    "    n2 = eval(input(\"Enter second number:\"))\n",
    "    x = input(\"Which opertor you want to try(+,-,*,/,//,%,**):\")\n",
    "    if x==\"+\":\n",
    "        print(f'addition of {n1} and {n2} is:{n1+n2}')\n",
    "    elif x=='-':\n",
    "        print(f'substraction of {n1} and {n2} is:{n1-n2}')\n",
    "    elif x=='*':\n",
    "        print(f'multiplication of {n1} and {n2} is:{n1*n2}')\n",
    "    elif x=='/':\n",
    "        print(f'division of {n1} and {n2} is:{n1/n2}')\n",
    "    elif x=='//':\n",
    "        print(f'floor division of {n1} and {n2} is:{n1//n2}')\n",
    "    elif x=='%':\n",
    "        print(f'reminder of {n1} and {n2} is:{n1%n2}')\n",
    "    elif x=='**':\n",
    "        print(f'power of {n1} and {n2} is:{n1**n2}')\n",
    "        uc = input(\"You want some calculations(y/n):\")\n"
   ]
  },
  {
   "cell_type": "code",
   "execution_count": 1,
   "metadata": {},
   "outputs": [
    {
     "data": {
      "text/plain": [
       "array([[58, 78, 86, 70],\n",
       "       [89, 74, 65, 60],\n",
       "       [56, 95, 61, 86],\n",
       "       [54, 81, 77, 56],\n",
       "       [73, 91, 50, 62]])"
      ]
     },
     "execution_count": 1,
     "metadata": {},
     "output_type": "execute_result"
    }
   ],
   "source": [
    "import numpy as np\n",
    "arr7 = np.array(np.random.randint(50,100, size=(5,4)))\n",
    "arr7\n"
   ]
  },
  {
   "cell_type": "code",
   "execution_count": 2,
   "metadata": {},
   "outputs": [
    {
     "data": {
      "text/plain": [
       "array([10.        , 10.06122449, 10.12244898, 10.18367347, 10.24489796,\n",
       "       10.30612245, 10.36734694, 10.42857143, 10.48979592, 10.55102041,\n",
       "       10.6122449 , 10.67346939, 10.73469388, 10.79591837, 10.85714286,\n",
       "       10.91836735, 10.97959184, 11.04081633, 11.10204082, 11.16326531,\n",
       "       11.2244898 , 11.28571429, 11.34693878, 11.40816327, 11.46938776,\n",
       "       11.53061224, 11.59183673, 11.65306122, 11.71428571, 11.7755102 ,\n",
       "       11.83673469, 11.89795918, 11.95918367, 12.02040816, 12.08163265,\n",
       "       12.14285714, 12.20408163, 12.26530612, 12.32653061, 12.3877551 ,\n",
       "       12.44897959, 12.51020408, 12.57142857, 12.63265306, 12.69387755,\n",
       "       12.75510204, 12.81632653, 12.87755102, 12.93877551, 13.        ])"
      ]
     },
     "execution_count": 2,
     "metadata": {},
     "output_type": "execute_result"
    }
   ],
   "source": [
    "arr8 = np.linspace(10,13)\n",
    "arr8\n"
   ]
  },
  {
   "cell_type": "code",
   "execution_count": 3,
   "metadata": {},
   "outputs": [
    {
     "data": {
      "text/plain": [
       "array([10, 14, 18, 23, 27, 32, 36, 41, 45, 50])"
      ]
     },
     "execution_count": 3,
     "metadata": {},
     "output_type": "execute_result"
    }
   ],
   "source": [
    "arr8 = np.linspace(10,50, num=10, dtype=int)\n",
    "arr8"
   ]
  },
  {
   "cell_type": "code",
   "execution_count": 4,
   "metadata": {},
   "outputs": [
    {
     "data": {
      "text/plain": [
       "array([10, 14, 18, 22, 26, 30, 34, 38, 42, 46])"
      ]
     },
     "execution_count": 4,
     "metadata": {},
     "output_type": "execute_result"
    }
   ],
   "source": [
    "arr8 = np.linspace(10,50, num=10, dtype=int, endpoint=False)\n",
    "arr8"
   ]
  },
  {
   "cell_type": "code",
   "execution_count": 5,
   "metadata": {},
   "outputs": [
    {
     "data": {
      "text/plain": [
       "array([[10, 14, 18, 22, 26],\n",
       "       [30, 34, 38, 42, 46]])"
      ]
     },
     "execution_count": 5,
     "metadata": {},
     "output_type": "execute_result"
    }
   ],
   "source": [
    "arr9 = arr8.reshape(2,5)\n",
    "arr9\n"
   ]
  },
  {
   "cell_type": "code",
   "execution_count": 6,
   "metadata": {},
   "outputs": [
    {
     "data": {
      "text/plain": [
       "array([[58, 78, 86, 70],\n",
       "       [89, 74, 65, 60],\n",
       "       [56, 95, 61, 86],\n",
       "       [54, 81, 77, 56],\n",
       "       [73, 91, 50, 62]])"
      ]
     },
     "execution_count": 6,
     "metadata": {},
     "output_type": "execute_result"
    }
   ],
   "source": [
    "arr7"
   ]
  },
  {
   "cell_type": "code",
   "execution_count": 7,
   "metadata": {},
   "outputs": [],
   "source": [
    "## for indexing-: variablename[rowindex, columnindex]"
   ]
  },
  {
   "cell_type": "code",
   "execution_count": 8,
   "metadata": {},
   "outputs": [
    {
     "data": {
      "text/plain": [
       "74"
      ]
     },
     "execution_count": 8,
     "metadata": {},
     "output_type": "execute_result"
    }
   ],
   "source": [
    "arr7[1,1]"
   ]
  },
  {
   "cell_type": "code",
   "execution_count": 9,
   "metadata": {},
   "outputs": [
    {
     "data": {
      "text/plain": [
       "91"
      ]
     },
     "execution_count": 9,
     "metadata": {},
     "output_type": "execute_result"
    }
   ],
   "source": [
    "arr7[4,1]\n"
   ]
  },
  {
   "cell_type": "code",
   "execution_count": 10,
   "metadata": {},
   "outputs": [
    {
     "data": {
      "text/plain": [
       "array([73, 91, 50, 62])"
      ]
     },
     "execution_count": 10,
     "metadata": {},
     "output_type": "execute_result"
    }
   ],
   "source": [
    "arr7[-1,]"
   ]
  },
  {
   "cell_type": "code",
   "execution_count": 11,
   "metadata": {},
   "outputs": [
    {
     "name": "stdout",
     "output_type": "stream",
     "text": [
      "[[70]\n",
      " [60]\n",
      " [86]\n",
      " [56]\n",
      " [62]]\n"
     ]
    }
   ],
   "source": [
    "print(arr7[:,3:])\n"
   ]
  },
  {
   "cell_type": "code",
   "execution_count": 12,
   "metadata": {},
   "outputs": [
    {
     "name": "stdout",
     "output_type": "stream",
     "text": [
      "[[74 65]\n",
      " [95 61]]\n"
     ]
    }
   ],
   "source": [
    "print(arr7[1:3, 1:3])"
   ]
  },
  {
   "cell_type": "code",
   "execution_count": 13,
   "metadata": {},
   "outputs": [
    {
     "name": "stdout",
     "output_type": "stream",
     "text": [
      "[[58 78 86]\n",
      " [89 74 65]\n",
      " [56 95 61]]\n"
     ]
    }
   ],
   "source": [
    "print(arr7[:3,:3])"
   ]
  },
  {
   "cell_type": "code",
   "execution_count": 14,
   "metadata": {},
   "outputs": [
    {
     "name": "stdout",
     "output_type": "stream",
     "text": [
      "[[58 78 86 70]\n",
      " [56 95 61 86]\n",
      " [73 91 50 62]]\n"
     ]
    }
   ],
   "source": [
    "print(arr7[::2, :])"
   ]
  },
  {
   "cell_type": "code",
   "execution_count": 15,
   "metadata": {},
   "outputs": [],
   "source": [
    "# new cell\n",
    "# np.array([63,74,73,265])\n",
    "# np.array([[67,73,26],[64,28,18]])"
   ]
  },
  {
   "cell_type": "code",
   "execution_count": 16,
   "metadata": {},
   "outputs": [
    {
     "name": "stdout",
     "output_type": "stream",
     "text": [
      "[[67 73 26]\n",
      " [64 28 18]]\n"
     ]
    }
   ],
   "source": [
    "a = np.array([[67,73,26],[64,28,18]])\n",
    "print(a)\n"
   ]
  },
  {
   "cell_type": "code",
   "execution_count": 3,
   "metadata": {},
   "outputs": [],
   "source": [
    "import numpy as np"
   ]
  },
  {
   "cell_type": "code",
   "execution_count": 4,
   "metadata": {},
   "outputs": [
    {
     "name": "stdout",
     "output_type": "stream",
     "text": [
      "[[ 76  74  99  72]\n",
      " [ 77 122 145 126]\n",
      " [126  86 130 104]\n",
      " [113  73  95  89]\n",
      " [112 143  84 144]]\n"
     ]
    }
   ],
   "source": [
    "x = np.array(np.random.randint(70,150, size=(5,4)))\n",
    "print(x)"
   ]
  },
  {
   "cell_type": "code",
   "execution_count": 5,
   "metadata": {},
   "outputs": [
    {
     "name": "stdout",
     "output_type": "stream",
     "text": [
      "[[ 76  74  99  72]\n",
      " [ 77 122 145 126]\n",
      " [126  86 130 104]\n",
      " [113  73  95  89]\n",
      " [112 143  84 144]]\n"
     ]
    }
   ],
   "source": [
    "print(x)"
   ]
  },
  {
   "cell_type": "code",
   "execution_count": 6,
   "metadata": {},
   "outputs": [],
   "source": [
    "x = x.sort(axis=-1) # row Wise Sorting\n",
    "x\n"
   ]
  },
  {
   "cell_type": "code",
   "execution_count": 7,
   "metadata": {},
   "outputs": [
    {
     "name": "stdout",
     "output_type": "stream",
     "text": [
      "None\n"
     ]
    }
   ],
   "source": [
    "print(x)"
   ]
  },
  {
   "cell_type": "code",
   "execution_count": 8,
   "metadata": {},
   "outputs": [
    {
     "name": "stdout",
     "output_type": "stream",
     "text": [
      "None\n"
     ]
    }
   ],
   "source": [
    "print(x)"
   ]
  },
  {
   "cell_type": "code",
   "execution_count": 1,
   "metadata": {},
   "outputs": [
    {
     "ename": "NameError",
     "evalue": "name 'a' is not defined",
     "output_type": "error",
     "traceback": [
      "\u001b[1;31m---------------------------------------------------------------------------\u001b[0m",
      "\u001b[1;31mNameError\u001b[0m                                 Traceback (most recent call last)",
      "\u001b[1;32m<ipython-input-1-2845abd608fd>\u001b[0m in \u001b[0;36m<module>\u001b[1;34m\u001b[0m\n\u001b[1;32m----> 1\u001b[1;33m \u001b[0ma\u001b[0m\u001b[1;33m.\u001b[0m\u001b[0msort\u001b[0m\u001b[1;33m(\u001b[0m\u001b[1;33m)\u001b[0m\u001b[1;33m\u001b[0m\u001b[1;33m\u001b[0m\u001b[0m\n\u001b[0m\u001b[0;32m      2\u001b[0m \u001b[0mprint\u001b[0m\u001b[1;33m(\u001b[0m\u001b[0ma\u001b[0m\u001b[1;33m)\u001b[0m\u001b[1;33m\u001b[0m\u001b[1;33m\u001b[0m\u001b[0m\n",
      "\u001b[1;31mNameError\u001b[0m: name 'a' is not defined"
     ]
    }
   ],
   "source": [
    "a.sort()\n",
    "print(a)"
   ]
  },
  {
   "cell_type": "code",
   "execution_count": 2,
   "metadata": {},
   "outputs": [
    {
     "ename": "NameError",
     "evalue": "name 'x' is not defined",
     "output_type": "error",
     "traceback": [
      "\u001b[1;31m---------------------------------------------------------------------------\u001b[0m",
      "\u001b[1;31mNameError\u001b[0m                                 Traceback (most recent call last)",
      "\u001b[1;32m<ipython-input-2-6fcf9dfbd479>\u001b[0m in \u001b[0;36m<module>\u001b[1;34m\u001b[0m\n\u001b[1;32m----> 1\u001b[1;33m \u001b[0mx\u001b[0m\u001b[1;33m\u001b[0m\u001b[1;33m\u001b[0m\u001b[0m\n\u001b[0m",
      "\u001b[1;31mNameError\u001b[0m: name 'x' is not defined"
     ]
    }
   ],
   "source": [
    "x\n"
   ]
  },
  {
   "cell_type": "code",
   "execution_count": 9,
   "metadata": {},
   "outputs": [
    {
     "name": "stdout",
     "output_type": "stream",
     "text": [
      "[[ 72  89 122 114]\n",
      " [116  98  77 135]\n",
      " [112 132 148 110]\n",
      " [107  76  82 114]\n",
      " [114  99  94 141]]\n"
     ]
    }
   ],
   "source": [
    "x2 = np.array(np.random.randint(70,150, size=(5,4)))\n",
    "print(x2)\n"
   ]
  },
  {
   "cell_type": "code",
   "execution_count": 10,
   "metadata": {},
   "outputs": [
    {
     "name": "stdout",
     "output_type": "stream",
     "text": [
      "[[ 72  76  77 110]\n",
      " [107  89  82 114]\n",
      " [112  98  94 114]\n",
      " [114  99 122 135]\n",
      " [116 132 148 141]]\n"
     ]
    }
   ],
   "source": [
    "x2.sort(axis=0) # column wise Sorting\n",
    "print(x2)"
   ]
  },
  {
   "cell_type": "code",
   "execution_count": 11,
   "metadata": {},
   "outputs": [
    {
     "data": {
      "text/plain": [
       "148"
      ]
     },
     "execution_count": 11,
     "metadata": {},
     "output_type": "execute_result"
    }
   ],
   "source": [
    "x2.max()\n"
   ]
  },
  {
   "cell_type": "code",
   "execution_count": 12,
   "metadata": {},
   "outputs": [
    {
     "data": {
      "text/plain": [
       "72"
      ]
     },
     "execution_count": 12,
     "metadata": {},
     "output_type": "execute_result"
    }
   ],
   "source": [
    "x2.min()\n"
   ]
  },
  {
   "cell_type": "code",
   "execution_count": 13,
   "metadata": {},
   "outputs": [
    {
     "data": {
      "text/plain": [
       "107.6"
      ]
     },
     "execution_count": 13,
     "metadata": {},
     "output_type": "execute_result"
    }
   ],
   "source": [
    "np.average(x2)\n"
   ]
  },
  {
   "cell_type": "code",
   "execution_count": 14,
   "metadata": {},
   "outputs": [
    {
     "data": {
      "text/plain": [
       "array([[ 72,  76,  77, 110],\n",
       "       [107,  89,  82, 114],\n",
       "       [112,  98,  94, 114],\n",
       "       [114,  99, 122, 135],\n",
       "       [116, 132, 148, 141]])"
      ]
     },
     "execution_count": 14,
     "metadata": {},
     "output_type": "execute_result"
    }
   ],
   "source": [
    "x2\n"
   ]
  },
  {
   "cell_type": "code",
   "execution_count": 15,
   "metadata": {},
   "outputs": [
    {
     "name": "stdout",
     "output_type": "stream",
     "text": [
      "[521 494 523 614]\n"
     ]
    }
   ],
   "source": [
    "x3 = sum(x2)\n",
    "print(x3)"
   ]
  },
  {
   "cell_type": "code",
   "execution_count": 16,
   "metadata": {},
   "outputs": [
    {
     "data": {
      "text/plain": [
       "403"
      ]
     },
     "execution_count": 16,
     "metadata": {},
     "output_type": "execute_result"
    }
   ],
   "source": [
    "80+95+104+124"
   ]
  },
  {
   "cell_type": "code",
   "execution_count": 17,
   "metadata": {},
   "outputs": [
    {
     "data": {
      "text/plain": [
       "471"
      ]
     },
     "execution_count": 17,
     "metadata": {},
     "output_type": "execute_result"
    }
   ],
   "source": [
    "80+82+89+104+116\n"
   ]
  },
  {
   "cell_type": "code",
   "execution_count": 18,
   "metadata": {},
   "outputs": [
    {
     "data": {
      "text/plain": [
       "array([[ 72,  76,  77, 110],\n",
       "       [107,  89,  82, 114],\n",
       "       [112,  98,  94, 114],\n",
       "       [114,  99, 122, 135],\n",
       "       [116, 132, 148, 141],\n",
       "       [521, 494, 523, 614]])"
      ]
     },
     "execution_count": 18,
     "metadata": {},
     "output_type": "execute_result"
    }
   ],
   "source": [
    "x4 = np.vstack((x2,x3))\n",
    "x4"
   ]
  },
  {
   "cell_type": "code",
   "execution_count": 19,
   "metadata": {},
   "outputs": [
    {
     "data": {
      "text/plain": [
       "array([[100],\n",
       "       [200],\n",
       "       [300],\n",
       "       [400],\n",
       "       [500],\n",
       "       [600]])"
      ]
     },
     "execution_count": 19,
     "metadata": {},
     "output_type": "execute_result"
    }
   ],
   "source": [
    "b = np.array([[100],[200],[300],[400],[500],[600]])\n",
    "b"
   ]
  },
  {
   "cell_type": "code",
   "execution_count": 20,
   "metadata": {},
   "outputs": [
    {
     "data": {
      "text/plain": [
       "array([[ 72,  76,  77, 110, 100],\n",
       "       [107,  89,  82, 114, 200],\n",
       "       [112,  98,  94, 114, 300],\n",
       "       [114,  99, 122, 135, 400],\n",
       "       [116, 132, 148, 141, 500],\n",
       "       [521, 494, 523, 614, 600]])"
      ]
     },
     "execution_count": 20,
     "metadata": {},
     "output_type": "execute_result"
    }
   ],
   "source": [
    "x5 = np.hstack((x4,b))\n",
    "x5"
   ]
  },
  {
   "cell_type": "code",
   "execution_count": 21,
   "metadata": {},
   "outputs": [
    {
     "data": {
      "text/plain": [
       "array([[ 72,  76,  77, 110],\n",
       "       [107,  89,  82, 114],\n",
       "       [112,  98,  94, 114],\n",
       "       [114,  99, 122, 135],\n",
       "       [116, 132, 148, 141]])"
      ]
     },
     "execution_count": 21,
     "metadata": {},
     "output_type": "execute_result"
    }
   ],
   "source": [
    "x2"
   ]
  },
  {
   "cell_type": "code",
   "execution_count": 22,
   "metadata": {},
   "outputs": [
    {
     "name": "stdout",
     "output_type": "stream",
     "text": [
      "[ 72  76  77 110 107  89  82 114 112  98  94 114 114  99 122 135 116 132\n",
      " 148 141  22  88 100 200]\n"
     ]
    }
   ],
   "source": [
    "x6 = np.append(x2,[22,88,100,200])\n",
    "print(x6)"
   ]
  },
  {
   "cell_type": "code",
   "execution_count": 23,
   "metadata": {},
   "outputs": [
    {
     "data": {
      "text/plain": [
       "1"
      ]
     },
     "execution_count": 23,
     "metadata": {},
     "output_type": "execute_result"
    }
   ],
   "source": [
    "x6.ndim"
   ]
  },
  {
   "cell_type": "code",
   "execution_count": 24,
   "metadata": {},
   "outputs": [
    {
     "data": {
      "text/plain": [
       "24"
      ]
     },
     "execution_count": 24,
     "metadata": {},
     "output_type": "execute_result"
    }
   ],
   "source": [
    "x6.size\n"
   ]
  },
  {
   "cell_type": "code",
   "execution_count": 25,
   "metadata": {},
   "outputs": [
    {
     "data": {
      "text/plain": [
       "array([[ 72,  76,  77, 110],\n",
       "       [107,  89,  82, 114],\n",
       "       [112,  98,  94, 114],\n",
       "       [114,  99, 122, 135],\n",
       "       [116, 132, 148, 141],\n",
       "       [ 22,  88, 100, 200]])"
      ]
     },
     "execution_count": 25,
     "metadata": {},
     "output_type": "execute_result"
    }
   ],
   "source": [
    "x7 = x6.reshape(6,4)\n",
    "x7"
   ]
  },
  {
   "cell_type": "code",
   "execution_count": 26,
   "metadata": {},
   "outputs": [
    {
     "name": "stdout",
     "output_type": "stream",
     "text": [
      "[521 494 523 614]\n"
     ]
    }
   ],
   "source": [
    "x3 = sum(x2)\n",
    "print(x3)\n"
   ]
  },
  {
   "cell_type": "code",
   "execution_count": 27,
   "metadata": {},
   "outputs": [
    {
     "name": "stdout",
     "output_type": "stream",
     "text": [
      "1) ALLOW_THREADS\n",
      "2) AxisError\n",
      "3) BUFSIZE\n",
      "4) CLIP\n",
      "5) ComplexWarning\n",
      "6) DataSource\n",
      "7) ERR_CALL\n",
      "8) ERR_DEFAULT\n",
      "9) ERR_IGNORE\n",
      "10) ERR_LOG\n",
      "11) ERR_PRINT\n",
      "12) ERR_RAISE\n",
      "13) ERR_WARN\n",
      "14) FLOATING_POINT_SUPPORT\n",
      "15) FPE_DIVIDEBYZERO\n",
      "16) FPE_INVALID\n",
      "17) FPE_OVERFLOW\n",
      "18) FPE_UNDERFLOW\n",
      "19) False_\n",
      "20) Inf\n",
      "21) Infinity\n",
      "22) MAXDIMS\n",
      "23) MAY_SHARE_BOUNDS\n",
      "24) MAY_SHARE_EXACT\n",
      "25) MachAr\n",
      "26) ModuleDeprecationWarning\n",
      "27) NAN\n",
      "28) NINF\n",
      "29) NZERO\n",
      "30) NaN\n",
      "31) PINF\n",
      "32) PZERO\n",
      "33) RAISE\n",
      "34) RankWarning\n",
      "35) SHIFT_DIVIDEBYZERO\n",
      "36) SHIFT_INVALID\n",
      "37) SHIFT_OVERFLOW\n",
      "38) SHIFT_UNDERFLOW\n",
      "39) ScalarType\n",
      "40) Tester\n",
      "41) TooHardError\n",
      "42) True_\n",
      "43) UFUNC_BUFSIZE_DEFAULT\n",
      "44) UFUNC_PYVALS_NAME\n",
      "45) VisibleDeprecationWarning\n",
      "46) WRAP\n",
      "47) _NoValue\n",
      "48) _UFUNC_API\n",
      "49) __NUMPY_SETUP__\n",
      "50) __all__\n",
      "51) __builtins__\n",
      "52) __cached__\n",
      "53) __config__\n",
      "54) __dir__\n",
      "55) __doc__\n",
      "56) __file__\n",
      "57) __getattr__\n",
      "58) __git_revision__\n",
      "59) __loader__\n",
      "60) __mkl_version__\n",
      "61) __name__\n",
      "62) __package__\n",
      "63) __path__\n",
      "64) __spec__\n",
      "65) __version__\n",
      "66) _add_newdoc_ufunc\n",
      "67) _distributor_init\n",
      "68) _globals\n",
      "69) _mat\n",
      "70) _pytesttester\n",
      "71) abs\n",
      "72) absolute\n",
      "73) add\n",
      "74) add_docstring\n",
      "75) add_newdoc\n",
      "76) add_newdoc_ufunc\n",
      "77) alen\n",
      "78) all\n",
      "79) allclose\n",
      "80) alltrue\n",
      "81) amax\n",
      "82) amin\n",
      "83) angle\n",
      "84) any\n",
      "85) append\n",
      "86) apply_along_axis\n",
      "87) apply_over_axes\n",
      "88) arange\n",
      "89) arccos\n",
      "90) arccosh\n",
      "91) arcsin\n",
      "92) arcsinh\n",
      "93) arctan\n",
      "94) arctan2\n",
      "95) arctanh\n",
      "96) argmax\n",
      "97) argmin\n",
      "98) argpartition\n",
      "99) argsort\n",
      "100) argwhere\n",
      "101) around\n",
      "102) array\n",
      "103) array2string\n",
      "104) array_equal\n",
      "105) array_equiv\n",
      "106) array_repr\n",
      "107) array_split\n",
      "108) array_str\n",
      "109) asanyarray\n",
      "110) asarray\n",
      "111) asarray_chkfinite\n",
      "112) ascontiguousarray\n",
      "113) asfarray\n",
      "114) asfortranarray\n",
      "115) asmatrix\n",
      "116) asscalar\n",
      "117) atleast_1d\n",
      "118) atleast_2d\n",
      "119) atleast_3d\n",
      "120) average\n",
      "121) bartlett\n",
      "122) base_repr\n",
      "123) binary_repr\n",
      "124) bincount\n",
      "125) bitwise_and\n",
      "126) bitwise_not\n",
      "127) bitwise_or\n",
      "128) bitwise_xor\n",
      "129) blackman\n",
      "130) block\n",
      "131) bmat\n",
      "132) bool\n",
      "133) bool8\n",
      "134) bool_\n",
      "135) broadcast\n",
      "136) broadcast_arrays\n",
      "137) broadcast_to\n",
      "138) busday_count\n",
      "139) busday_offset\n",
      "140) busdaycalendar\n",
      "141) byte\n",
      "142) byte_bounds\n",
      "143) bytes0\n",
      "144) bytes_\n",
      "145) c_\n",
      "146) can_cast\n",
      "147) cast\n",
      "148) cbrt\n",
      "149) cdouble\n",
      "150) ceil\n",
      "151) cfloat\n",
      "152) char\n",
      "153) character\n",
      "154) chararray\n",
      "155) choose\n",
      "156) clip\n",
      "157) clongdouble\n",
      "158) clongfloat\n",
      "159) column_stack\n",
      "160) common_type\n",
      "161) compare_chararrays\n",
      "162) compat\n",
      "163) complex\n",
      "164) complex128\n",
      "165) complex64\n",
      "166) complex_\n",
      "167) complexfloating\n",
      "168) compress\n",
      "169) concatenate\n",
      "170) conj\n",
      "171) conjugate\n",
      "172) convolve\n",
      "173) copy\n",
      "174) copysign\n",
      "175) copyto\n",
      "176) core\n",
      "177) corrcoef\n",
      "178) correlate\n",
      "179) cos\n",
      "180) cosh\n",
      "181) count_nonzero\n",
      "182) cov\n",
      "183) cross\n",
      "184) csingle\n",
      "185) ctypeslib\n",
      "186) cumprod\n",
      "187) cumproduct\n",
      "188) cumsum\n",
      "189) datetime64\n",
      "190) datetime_as_string\n",
      "191) datetime_data\n",
      "192) deg2rad\n",
      "193) degrees\n",
      "194) delete\n",
      "195) deprecate\n",
      "196) deprecate_with_doc\n",
      "197) diag\n",
      "198) diag_indices\n",
      "199) diag_indices_from\n",
      "200) diagflat\n",
      "201) diagonal\n",
      "202) diff\n",
      "203) digitize\n",
      "204) disp\n",
      "205) divide\n",
      "206) divmod\n",
      "207) dot\n",
      "208) double\n",
      "209) dsplit\n",
      "210) dstack\n",
      "211) dtype\n",
      "212) e\n",
      "213) ediff1d\n",
      "214) einsum\n",
      "215) einsum_path\n",
      "216) emath\n",
      "217) empty\n",
      "218) empty_like\n",
      "219) equal\n",
      "220) errstate\n",
      "221) euler_gamma\n",
      "222) exp\n",
      "223) exp2\n",
      "224) expand_dims\n",
      "225) expm1\n",
      "226) extract\n",
      "227) eye\n",
      "228) fabs\n",
      "229) fastCopyAndTranspose\n",
      "230) fft\n",
      "231) fill_diagonal\n",
      "232) find_common_type\n",
      "233) finfo\n",
      "234) fix\n",
      "235) flatiter\n",
      "236) flatnonzero\n",
      "237) flexible\n",
      "238) flip\n",
      "239) fliplr\n",
      "240) flipud\n",
      "241) float\n",
      "242) float16\n",
      "243) float32\n",
      "244) float64\n",
      "245) float_\n",
      "246) float_power\n",
      "247) floating\n",
      "248) floor\n",
      "249) floor_divide\n",
      "250) fmax\n",
      "251) fmin\n",
      "252) fmod\n",
      "253) format_float_positional\n",
      "254) format_float_scientific\n",
      "255) format_parser\n",
      "256) frexp\n",
      "257) frombuffer\n",
      "258) fromfile\n",
      "259) fromfunction\n",
      "260) fromiter\n",
      "261) frompyfunc\n",
      "262) fromregex\n",
      "263) fromstring\n",
      "264) full\n",
      "265) full_like\n",
      "266) fv\n",
      "267) gcd\n",
      "268) generic\n",
      "269) genfromtxt\n",
      "270) geomspace\n",
      "271) get_array_wrap\n",
      "272) get_include\n",
      "273) get_printoptions\n",
      "274) getbufsize\n",
      "275) geterr\n",
      "276) geterrcall\n",
      "277) geterrobj\n",
      "278) gradient\n",
      "279) greater\n",
      "280) greater_equal\n",
      "281) half\n",
      "282) hamming\n",
      "283) hanning\n",
      "284) heaviside\n",
      "285) histogram\n",
      "286) histogram2d\n",
      "287) histogram_bin_edges\n",
      "288) histogramdd\n",
      "289) hsplit\n",
      "290) hstack\n",
      "291) hypot\n",
      "292) i0\n",
      "293) identity\n",
      "294) iinfo\n",
      "295) imag\n",
      "296) in1d\n",
      "297) index_exp\n",
      "298) indices\n",
      "299) inexact\n",
      "300) inf\n",
      "301) info\n",
      "302) infty\n",
      "303) inner\n",
      "304) insert\n",
      "305) int\n",
      "306) int0\n",
      "307) int16\n",
      "308) int32\n",
      "309) int64\n",
      "310) int8\n",
      "311) int_\n",
      "312) intc\n",
      "313) integer\n",
      "314) interp\n",
      "315) intersect1d\n",
      "316) intp\n",
      "317) invert\n",
      "318) ipmt\n",
      "319) irr\n",
      "320) is_busday\n",
      "321) isclose\n",
      "322) iscomplex\n",
      "323) iscomplexobj\n",
      "324) isfinite\n",
      "325) isfortran\n",
      "326) isin\n",
      "327) isinf\n",
      "328) isnan\n",
      "329) isnat\n",
      "330) isneginf\n",
      "331) isposinf\n",
      "332) isreal\n",
      "333) isrealobj\n",
      "334) isscalar\n",
      "335) issctype\n",
      "336) issubclass_\n",
      "337) issubdtype\n",
      "338) issubsctype\n",
      "339) iterable\n",
      "340) ix_\n",
      "341) kaiser\n",
      "342) kron\n",
      "343) lcm\n",
      "344) ldexp\n",
      "345) left_shift\n",
      "346) less\n",
      "347) less_equal\n",
      "348) lexsort\n",
      "349) lib\n",
      "350) linalg\n",
      "351) linspace\n",
      "352) little_endian\n",
      "353) load\n",
      "354) loads\n",
      "355) loadtxt\n",
      "356) log\n",
      "357) log10\n",
      "358) log1p\n",
      "359) log2\n",
      "360) logaddexp\n",
      "361) logaddexp2\n",
      "362) logical_and\n",
      "363) logical_not\n",
      "364) logical_or\n",
      "365) logical_xor\n",
      "366) logspace\n",
      "367) long\n",
      "368) longcomplex\n",
      "369) longdouble\n",
      "370) longfloat\n",
      "371) longlong\n",
      "372) lookfor\n",
      "373) ma\n",
      "374) mafromtxt\n",
      "375) mask_indices\n",
      "376) mat\n",
      "377) math\n",
      "378) matmul\n",
      "379) matrix\n",
      "380) matrixlib\n",
      "381) max\n",
      "382) maximum\n",
      "383) maximum_sctype\n",
      "384) may_share_memory\n",
      "385) mean\n",
      "386) median\n",
      "387) memmap\n",
      "388) meshgrid\n",
      "389) mgrid\n",
      "390) min\n",
      "391) min_scalar_type\n",
      "392) minimum\n",
      "393) mintypecode\n",
      "394) mirr\n",
      "395) mkl\n",
      "396) mod\n",
      "397) modf\n",
      "398) moveaxis\n",
      "399) msort\n",
      "400) multiply\n",
      "401) nan\n",
      "402) nan_to_num\n",
      "403) nanargmax\n",
      "404) nanargmin\n",
      "405) nancumprod\n",
      "406) nancumsum\n",
      "407) nanmax\n",
      "408) nanmean\n",
      "409) nanmedian\n",
      "410) nanmin\n",
      "411) nanpercentile\n",
      "412) nanprod\n",
      "413) nanquantile\n",
      "414) nanstd\n",
      "415) nansum\n",
      "416) nanvar\n",
      "417) nbytes\n",
      "418) ndarray\n",
      "419) ndenumerate\n",
      "420) ndfromtxt\n",
      "421) ndim\n",
      "422) ndindex\n",
      "423) nditer\n",
      "424) negative\n",
      "425) nested_iters\n",
      "426) newaxis\n",
      "427) nextafter\n",
      "428) nonzero\n",
      "429) not_equal\n",
      "430) nper\n",
      "431) npv\n",
      "432) numarray\n",
      "433) number\n",
      "434) obj2sctype\n",
      "435) object\n",
      "436) object0\n",
      "437) object_\n",
      "438) ogrid\n",
      "439) oldnumeric\n",
      "440) ones\n",
      "441) ones_like\n",
      "442) os\n",
      "443) outer\n",
      "444) packbits\n",
      "445) pad\n",
      "446) partition\n",
      "447) percentile\n",
      "448) pi\n",
      "449) piecewise\n",
      "450) place\n",
      "451) pmt\n",
      "452) poly\n",
      "453) poly1d\n",
      "454) polyadd\n",
      "455) polyder\n",
      "456) polydiv\n",
      "457) polyfit\n",
      "458) polyint\n",
      "459) polymul\n",
      "460) polynomial\n",
      "461) polysub\n",
      "462) polyval\n",
      "463) positive\n",
      "464) power\n",
      "465) ppmt\n",
      "466) printoptions\n",
      "467) prod\n",
      "468) product\n",
      "469) promote_types\n",
      "470) ptp\n",
      "471) put\n",
      "472) put_along_axis\n",
      "473) putmask\n",
      "474) pv\n",
      "475) quantile\n",
      "476) r_\n",
      "477) rad2deg\n",
      "478) radians\n",
      "479) random\n",
      "480) rate\n",
      "481) ravel\n",
      "482) ravel_multi_index\n",
      "483) real\n",
      "484) real_if_close\n",
      "485) rec\n",
      "486) recarray\n",
      "487) recfromcsv\n",
      "488) recfromtxt\n",
      "489) reciprocal\n",
      "490) record\n",
      "491) remainder\n",
      "492) repeat\n",
      "493) require\n",
      "494) reshape\n",
      "495) resize\n",
      "496) result_type\n",
      "497) right_shift\n",
      "498) rint\n",
      "499) roll\n",
      "500) rollaxis\n",
      "501) roots\n",
      "502) rot90\n",
      "503) round\n",
      "504) round_\n",
      "505) row_stack\n",
      "506) s_\n",
      "507) safe_eval\n",
      "508) save\n",
      "509) savetxt\n",
      "510) savez\n",
      "511) savez_compressed\n",
      "512) sctype2char\n",
      "513) sctypeDict\n",
      "514) sctypeNA\n",
      "515) sctypes\n",
      "516) searchsorted\n",
      "517) select\n",
      "518) set_numeric_ops\n",
      "519) set_printoptions\n",
      "520) set_string_function\n",
      "521) setbufsize\n",
      "522) setdiff1d\n",
      "523) seterr\n",
      "524) seterrcall\n",
      "525) seterrobj\n",
      "526) setxor1d\n",
      "527) shape\n",
      "528) shares_memory\n",
      "529) short\n",
      "530) show_config\n",
      "531) sign\n",
      "532) signbit\n",
      "533) signedinteger\n",
      "534) sin\n",
      "535) sinc\n",
      "536) single\n",
      "537) singlecomplex\n",
      "538) sinh\n",
      "539) size\n",
      "540) sometrue\n",
      "541) sort\n",
      "542) sort_complex\n",
      "543) source\n",
      "544) spacing\n",
      "545) split\n",
      "546) sqrt\n",
      "547) square\n",
      "548) squeeze\n",
      "549) stack\n",
      "550) std\n",
      "551) str\n",
      "552) str0\n",
      "553) str_\n",
      "554) string_\n",
      "555) subtract\n",
      "556) sum\n",
      "557) swapaxes\n",
      "558) sys\n",
      "559) take\n",
      "560) take_along_axis\n",
      "561) tan\n",
      "562) tanh\n",
      "563) tensordot\n",
      "564) test\n",
      "565) testing\n",
      "566) tile\n",
      "567) timedelta64\n",
      "568) trace\n",
      "569) tracemalloc_domain\n",
      "570) transpose\n",
      "571) trapz\n",
      "572) tri\n",
      "573) tril\n",
      "574) tril_indices\n",
      "575) tril_indices_from\n",
      "576) trim_zeros\n",
      "577) triu\n",
      "578) triu_indices\n",
      "579) triu_indices_from\n",
      "580) true_divide\n",
      "581) trunc\n",
      "582) typeDict\n",
      "583) typeNA\n",
      "584) typecodes\n",
      "585) typename\n",
      "586) ubyte\n",
      "587) ufunc\n",
      "588) uint\n",
      "589) uint0\n",
      "590) uint16\n",
      "591) uint32\n",
      "592) uint64\n",
      "593) uint8\n",
      "594) uintc\n",
      "595) uintp\n",
      "596) ulonglong\n",
      "597) unicode\n",
      "598) unicode_\n",
      "599) union1d\n",
      "600) unique\n",
      "601) unpackbits\n",
      "602) unravel_index\n",
      "603) unsignedinteger\n",
      "604) unwrap\n",
      "605) use_hugepage\n",
      "606) ushort\n",
      "607) vander\n",
      "608) var\n",
      "609) vdot\n",
      "610) vectorize\n",
      "611) version\n",
      "612) void\n",
      "613) void0\n",
      "614) vsplit\n",
      "615) vstack\n",
      "616) warnings\n",
      "617) where\n",
      "618) who\n",
      "619) zeros\n",
      "620) zeros_like\n"
     ]
    }
   ],
   "source": [
    "for i,j in enumerate(dir(np)):\n",
    "    print(f'{i+1}) {j}')\n"
   ]
  },
  {
   "cell_type": "code",
   "execution_count": 28,
   "metadata": {},
   "outputs": [
    {
     "data": {
      "text/plain": [
       "array([[18, 13],\n",
       "       [17, 13],\n",
       "       [14, 13],\n",
       "       [19, 15],\n",
       "       [19, 14],\n",
       "       [20, 18],\n",
       "       [17, 19],\n",
       "       [10, 19],\n",
       "       [19, 15],\n",
       "       [16, 14]])"
      ]
     },
     "execution_count": 28,
     "metadata": {},
     "output_type": "execute_result"
    }
   ],
   "source": [
    "z = np.array(np.random.randint(10,21, size=(10,2)))\n",
    "z\n"
   ]
  },
  {
   "cell_type": "code",
   "execution_count": 29,
   "metadata": {},
   "outputs": [
    {
     "data": {
      "text/plain": [
       "array([[29, 29],\n",
       "       [26, 26],\n",
       "       [21, 28],\n",
       "       [30, 24],\n",
       "       [26, 26],\n",
       "       [23, 29],\n",
       "       [22, 26],\n",
       "       [20, 24],\n",
       "       [29, 24],\n",
       "       [24, 22]])"
      ]
     },
     "execution_count": 29,
     "metadata": {},
     "output_type": "execute_result"
    }
   ],
   "source": [
    "z2=np.array(np.random.randint(20,31, size=(10,2)))\n",
    "z2"
   ]
  },
  {
   "cell_type": "code",
   "execution_count": 30,
   "metadata": {},
   "outputs": [],
   "source": [
    "z3 = z*z2\n"
   ]
  },
  {
   "cell_type": "code",
   "execution_count": 31,
   "metadata": {},
   "outputs": [
    {
     "data": {
      "text/plain": [
       "array([[522, 377],\n",
       "       [442, 338],\n",
       "       [294, 364],\n",
       "       [570, 360],\n",
       "       [494, 364],\n",
       "       [460, 522],\n",
       "       [374, 494],\n",
       "       [200, 456],\n",
       "       [551, 360],\n",
       "       [384, 308]])"
      ]
     },
     "execution_count": 31,
     "metadata": {},
     "output_type": "execute_result"
    }
   ],
   "source": [
    "z3"
   ]
  },
  {
   "cell_type": "code",
   "execution_count": 32,
   "metadata": {},
   "outputs": [
    {
     "data": {
      "text/plain": [
       "array([[18, 13, 29, 29],\n",
       "       [17, 13, 26, 26],\n",
       "       [14, 13, 21, 28],\n",
       "       [19, 15, 30, 24],\n",
       "       [19, 14, 26, 26],\n",
       "       [20, 18, 23, 29],\n",
       "       [17, 19, 22, 26],\n",
       "       [10, 19, 20, 24],\n",
       "       [19, 15, 29, 24],\n",
       "       [16, 14, 24, 22]])"
      ]
     },
     "execution_count": 32,
     "metadata": {},
     "output_type": "execute_result"
    }
   ],
   "source": [
    "z4 = np.hstack((z,z2))\n",
    "z4"
   ]
  },
  {
   "cell_type": "code",
   "execution_count": 33,
   "metadata": {},
   "outputs": [
    {
     "data": {
      "text/plain": [
       "array([[ 18,  13,  29,  29, 522, 377],\n",
       "       [ 17,  13,  26,  26, 442, 338],\n",
       "       [ 14,  13,  21,  28, 294, 364],\n",
       "       [ 19,  15,  30,  24, 570, 360],\n",
       "       [ 19,  14,  26,  26, 494, 364],\n",
       "       [ 20,  18,  23,  29, 460, 522],\n",
       "       [ 17,  19,  22,  26, 374, 494],\n",
       "       [ 10,  19,  20,  24, 200, 456],\n",
       "       [ 19,  15,  29,  24, 551, 360],\n",
       "       [ 16,  14,  24,  22, 384, 308]])"
      ]
     },
     "execution_count": 33,
     "metadata": {},
     "output_type": "execute_result"
    }
   ],
   "source": [
    "z5 = np.hstack((z4,z3))\n",
    "z5\n"
   ]
  },
  {
   "cell_type": "code",
   "execution_count": 34,
   "metadata": {},
   "outputs": [
    {
     "name": "stdout",
     "output_type": "stream",
     "text": [
      "[[ 7]\n",
      " [ 4]\n",
      " [ 4]\n",
      " [10]\n",
      " [ 3]\n",
      " [ 1]\n",
      " [ 8]\n",
      " [ 3]\n",
      " [10]\n",
      " [ 6]]\n"
     ]
    }
   ],
   "source": [
    "prod = np.array(np.random.randint(1,11,size=(10,1)))\n",
    "price = np.array(np.random.randint(50,100, size=(10,1)))\n",
    "print(prod)"
   ]
  },
  {
   "cell_type": "code",
   "execution_count": 35,
   "metadata": {},
   "outputs": [
    {
     "name": "stdout",
     "output_type": "stream",
     "text": [
      "[[57]\n",
      " [67]\n",
      " [76]\n",
      " [62]\n",
      " [78]\n",
      " [71]\n",
      " [84]\n",
      " [95]\n",
      " [58]\n",
      " [99]]\n"
     ]
    }
   ],
   "source": [
    "print(price)\n"
   ]
  },
  {
   "cell_type": "code",
   "execution_count": 36,
   "metadata": {},
   "outputs": [
    {
     "data": {
      "text/plain": [
       "array([[ 7, 57],\n",
       "       [ 4, 67],\n",
       "       [ 4, 76],\n",
       "       [10, 62],\n",
       "       [ 3, 78],\n",
       "       [ 1, 71],\n",
       "       [ 8, 84],\n",
       "       [ 3, 95],\n",
       "       [10, 58],\n",
       "       [ 6, 99]])"
      ]
     },
     "execution_count": 36,
     "metadata": {},
     "output_type": "execute_result"
    }
   ],
   "source": [
    "det = np.hstack((prod, price))\n",
    "det\n"
   ]
  },
  {
   "cell_type": "code",
   "execution_count": null,
   "metadata": {},
   "outputs": [],
   "source": []
  }
 ],
 "metadata": {
  "kernelspec": {
   "display_name": "Python 3",
   "language": "python",
   "name": "python3"
  },
  "language_info": {
   "codemirror_mode": {
    "name": "ipython",
    "version": 3
   },
   "file_extension": ".py",
   "mimetype": "text/x-python",
   "name": "python",
   "nbconvert_exporter": "python",
   "pygments_lexer": "ipython3",
   "version": "3.8.5"
  }
 },
 "nbformat": 4,
 "nbformat_minor": 4
}
